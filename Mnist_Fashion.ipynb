{
  "nbformat": 4,
  "nbformat_minor": 0,
  "metadata": {
    "colab": {
      "name": "Mnist Fashion.ipynb",
      "provenance": [],
      "collapsed_sections": [],
      "authorship_tag": "ABX9TyOzAa7m5PWlrayAoq3HIhG7",
      "include_colab_link": true
    },
    "kernelspec": {
      "name": "python3",
      "display_name": "Python 3"
    },
    "language_info": {
      "name": "python"
    }
  },
  "cells": [
    {
      "cell_type": "markdown",
      "metadata": {
        "id": "view-in-github",
        "colab_type": "text"
      },
      "source": [
        "<a href=\"https://colab.research.google.com/github/AabisZ/Fashion-MNIST--Image-Classification-Model-/blob/main/Mnist_Fashion.ipynb\" target=\"_parent\"><img src=\"https://colab.research.google.com/assets/colab-badge.svg\" alt=\"Open In Colab\"/></a>"
      ]
    },
    {
      "cell_type": "code",
      "metadata": {
        "id": "OLZ5P7umIp43"
      },
      "source": [
        ""
      ],
      "execution_count": null,
      "outputs": []
    },
    {
      "cell_type": "markdown",
      "metadata": {
        "id": "bEMgS4dPMVXC"
      },
      "source": [
        "Mnist Fashion Dataset"
      ]
    },
    {
      "cell_type": "code",
      "metadata": {
        "colab": {
          "base_uri": "https://localhost:8080/"
        },
        "id": "JhUote4UMX8q",
        "outputId": "f2cc89a2-a1b2-4b9f-bc8c-95e8cb4d2fd5"
      },
      "source": [
        "import tensorflow as tf\n",
        "#loading data\n",
        "mnist =tf.keras.datasets.fashion_mnist\n",
        "(training_images,training_labels),(test_images,test_labels)=mnist.load_data()\n",
        "\n",
        "#normalizing data\n",
        "training_images = training_images /255.0\n",
        "test_images=test_images /255.0\n",
        "\n",
        "#now we move towards training\n",
        "#flattern make vector converts 2d or 3d dim array to a 1D\n",
        "model=tf.keras.models.Sequential([tf.keras.layers.Flatten(),\n",
        "                                 tf.keras.layers.Dense(512,activation=tf.nn.relu),\n",
        "                                 tf.keras.layers.Dense(10,activation=tf.nn.softmax)])\n",
        "\n",
        "#compilation stage\n",
        "#we can use rmscrop or adam our choice \n",
        "#because its a multiclassification problem we use sparce cat at loss\n",
        "model.compile(optimizer = tf.keras.optimizers.Adam(),\n",
        "              loss='sparse_categorical_crossentropy',\n",
        "              metrics = ['accuracy'])\n",
        "\n",
        "#now training the model\n",
        "#epoch means in how much iteration the model should learn\n",
        "model.fit(training_images,training_labels,epochs=5,batch_size=128)\n",
        "\n",
        "#evaulating model\n",
        "#this will tell the real accuracy of your model as evaulation is done on unseen data\n",
        "\n",
        "model.evaluate(test_images,test_labels)"
      ],
      "execution_count": 1,
      "outputs": [
        {
          "output_type": "stream",
          "name": "stdout",
          "text": [
            "Downloading data from https://storage.googleapis.com/tensorflow/tf-keras-datasets/train-labels-idx1-ubyte.gz\n",
            "32768/29515 [=================================] - 0s 0us/step\n",
            "40960/29515 [=========================================] - 0s 0us/step\n",
            "Downloading data from https://storage.googleapis.com/tensorflow/tf-keras-datasets/train-images-idx3-ubyte.gz\n",
            "26427392/26421880 [==============================] - 0s 0us/step\n",
            "26435584/26421880 [==============================] - 0s 0us/step\n",
            "Downloading data from https://storage.googleapis.com/tensorflow/tf-keras-datasets/t10k-labels-idx1-ubyte.gz\n",
            "16384/5148 [===============================================================================================] - 0s 0us/step\n",
            "Downloading data from https://storage.googleapis.com/tensorflow/tf-keras-datasets/t10k-images-idx3-ubyte.gz\n",
            "4423680/4422102 [==============================] - 0s 0us/step\n",
            "4431872/4422102 [==============================] - 0s 0us/step\n",
            "Epoch 1/5\n",
            "469/469 [==============================] - 5s 8ms/step - loss: 0.5027 - accuracy: 0.8248\n",
            "Epoch 2/5\n",
            "469/469 [==============================] - 4s 8ms/step - loss: 0.3722 - accuracy: 0.8668\n",
            "Epoch 3/5\n",
            "469/469 [==============================] - 4s 8ms/step - loss: 0.3320 - accuracy: 0.8799\n",
            "Epoch 4/5\n",
            "469/469 [==============================] - 4s 8ms/step - loss: 0.3100 - accuracy: 0.8856\n",
            "Epoch 5/5\n",
            "469/469 [==============================] - 4s 8ms/step - loss: 0.2874 - accuracy: 0.8938\n",
            "313/313 [==============================] - 1s 2ms/step - loss: 0.3524 - accuracy: 0.8756\n"
          ]
        },
        {
          "output_type": "execute_result",
          "data": {
            "text/plain": [
              "[0.35235804319381714, 0.8755999803543091]"
            ]
          },
          "metadata": {},
          "execution_count": 1
        }
      ]
    },
    {
      "cell_type": "code",
      "metadata": {
        "colab": {
          "base_uri": "https://localhost:8080/",
          "height": 265
        },
        "id": "UDlsMTw-Mw_B",
        "outputId": "d9a8ab52-444f-42cb-c1bc-3ccd9b3567a1"
      },
      "source": [
        "digit =training_images[4]\n",
        "import matplotlib.pyplot as plt\n",
        "plt.imshow(digit,cmap=plt.cm.binary)\n",
        "plt.show()"
      ],
      "execution_count": 3,
      "outputs": [
        {
          "output_type": "display_data",
          "data": {
            "image/png": "[encoded data removed]",
            "text/plain": [
              "<Figure size 432x288 with 1 Axes>"
            ]
          },
          "metadata": {
            "needs_background": "light"
          }
        }
      ]
    },
    {
      "cell_type": "code",
      "metadata": {
        "colab": {
          "base_uri": "https://localhost:8080/"
        },
        "id": "wwfYWZW-pJ2g",
        "outputId": "6ab92804-914e-4507-da30-43b33142d4ae"
      },
      "source": [
        "training_labels[4]"
      ],
      "execution_count": 4,
      "outputs": [
        {
          "output_type": "execute_result",
          "data": {
            "text/plain": [
              "0"
            ]
          },
          "metadata": {},
          "execution_count": 4
        }
      ]
    },
    {
      "cell_type": "code",
      "metadata": {
        "colab": {
          "base_uri": "https://localhost:8080/"
        },
        "id": "8pwn0yGROrmG",
        "outputId": "1ad38016-fffb-4d99-c433-df646b9eff12"
      },
      "source": [
        "training_images[4]"
      ],
      "execution_count": 6,
      "outputs": [
        {
          "output_type": "execute_result",
          "data": {
            "text/plain": [
              "array([[0.        , 0.        , 0.        , 0.        , 0.        ,\n",
              "        0.        , 0.        , 0.        , 0.        , 0.        ,\n",
              "        0.        , 0.        , 0.        , 0.        , 0.        ,\n",
              "        0.        , 0.        , 0.10196078, 0.        , 0.        ,\n",
              "        0.        , 0.        , 0.        , 0.        , 0.        ,\n",
              "        0.        , 0.        , 0.        ],\n",
              "       [0.        , 0.        , 0.        , 0.        , 0.        ,\n",
              "        0.        , 0.        , 0.        , 0.74117647, 0.80784314,\n",
              "        0.73333333, 0.1254902 , 0.        , 0.        , 0.        ,\n",
              "        0.10196078, 0.85098039, 0.88627451, 0.76862745, 0.04313725,\n",
              "        0.        , 0.        , 0.        , 0.        , 0.        ,\n",
              "        0.        , 0.        , 0.        ],\n",
              "       [0.        , 0.        , 0.        , 0.        , 0.        ,\n",
              "        0.        , 0.        , 0.        , 0.75294118, 0.89019608,\n",
              "        0.91764706, 0.95294118, 0.90196078, 0.57647059, 0.9372549 ,\n",
              "        0.94901961, 0.91764706, 0.85490196, 0.81960784, 0.        ,\n",
              "        0.        , 0.        , 0.        , 0.        , 0.        ,\n",
              "        0.        , 0.        , 0.        ],\n",
              "       [0.        , 0.        , 0.        , 0.        , 0.        ,\n",
              "        0.        , 0.        , 0.        , 0.67843137, 0.88235294,\n",
              "        0.84313725, 0.91372549, 0.99607843, 0.        , 0.76078431,\n",
              "        0.94117647, 0.85098039, 0.86666667, 0.74509804, 0.        ,\n",
              "        0.        , 0.        , 0.        , 0.        , 0.        ,\n",
              "        0.        , 0.        , 0.        ],\n",
              "       [0.        , 0.        , 0.        , 0.        , 0.        ,\n",
              "        0.        , 0.        , 0.        , 0.54509804, 0.89803922,\n",
              "        0.83137255, 0.88627451, 1.        , 0.        , 0.63529412,\n",
              "        1.        , 0.83529412, 0.88627451, 0.78431373, 0.        ,\n",
              "        0.        , 0.        , 0.        , 0.        , 0.        ,\n",
              "        0.        , 0.        , 0.        ],\n",
              "       [0.        , 0.        , 0.        , 0.        , 0.        ,\n",
              "        0.        , 0.        , 0.        , 0.38431373, 0.90980392,\n",
              "        0.82745098, 0.84313725, 0.97647059, 0.18039216, 0.63529412,\n",
              "        0.96470588, 0.83921569, 0.90196078, 0.72941176, 0.        ,\n",
              "        0.        , 0.        , 0.        , 0.        , 0.        ,\n",
              "        0.        , 0.        , 0.        ],\n",
              "       [0.        , 0.        , 0.        , 0.        , 0.        ,\n",
              "        0.        , 0.        , 0.        , 0.2745098 , 0.89411765,\n",
              "        0.83529412, 0.8627451 , 0.87843137, 0.98823529, 0.9372549 ,\n",
              "        0.85882353, 0.85098039, 0.90588235, 0.67058824, 0.        ,\n",
              "        0.        , 0.        , 0.        , 0.        , 0.        ,\n",
              "        0.        , 0.        , 0.        ],\n",
              "       [0.        , 0.        , 0.        , 0.        , 0.        ,\n",
              "        0.        , 0.        , 0.        , 0.17647059, 0.87058824,\n",
              "        0.83921569, 0.85490196, 0.84705882, 0.82352941, 0.84313725,\n",
              "        0.85098039, 0.79215686, 0.87843137, 0.6745098 , 0.        ,\n",
              "        0.        , 0.        , 0.        , 0.        , 0.        ,\n",
              "        0.        , 0.        , 0.        ],\n",
              "       [0.        , 0.        , 0.        , 0.        , 0.        ,\n",
              "        0.        , 0.        , 0.        , 0.09411765, 0.99607843,\n",
              "        0.83921569, 0.82352941, 0.82745098, 0.83921569, 0.84313725,\n",
              "        0.83137255, 0.79607843, 0.86666667, 0.65490196, 0.        ,\n",
              "        0.        , 0.        , 0.        , 0.        , 0.        ,\n",
              "        0.        , 0.        , 0.        ],\n",
              "       [0.        , 0.        , 0.        , 0.        , 0.        ,\n",
              "        0.        , 0.        , 0.        , 0.        , 0.99607843,\n",
              "        0.84705882, 0.84313725, 0.85098039, 0.85098039, 0.84705882,\n",
              "        0.84705882, 0.80784314, 0.88235294, 0.58823529, 0.        ,\n",
              "        0.        , 0.        , 0.        , 0.        , 0.        ,\n",
              "        0.        , 0.        , 0.        ],\n",
              "       [0.        , 0.        , 0.        , 0.        , 0.        ,\n",
              "        0.        , 0.        , 0.        , 0.        , 0.96862745,\n",
              "        0.84705882, 0.83921569, 0.85098039, 0.84705882, 0.83921569,\n",
              "        0.83137255, 0.79607843, 0.88627451, 0.53333333, 0.        ,\n",
              "        0.        , 0.        , 0.        , 0.        , 0.        ,\n",
              "        0.        , 0.        , 0.        ],\n",
              "       [0.        , 0.        , 0.        , 0.        , 0.        ,\n",
              "        0.        , 0.        , 0.        , 0.        , 0.96078431,\n",
              "        0.84705882, 0.83921569, 0.84705882, 0.85098039, 0.84313725,\n",
              "        0.82745098, 0.8       , 0.88235294, 0.49019608, 0.        ,\n",
              "        0.        , 0.        , 0.        , 0.        , 0.        ,\n",
              "        0.        , 0.        , 0.        ],\n",
              "       [0.        , 0.        , 0.        , 0.        , 0.        ,\n",
              "        0.        , 0.        , 0.        , 0.        , 0.96862745,\n",
              "        0.84705882, 0.83921569, 0.85098039, 0.8627451 , 0.85098039,\n",
              "        0.83529412, 0.79607843, 0.87058824, 0.57647059, 0.        ,\n",
              "        0.        , 0.        , 0.        , 0.        , 0.        ,\n",
              "        0.        , 0.        , 0.        ],\n",
              "       [0.        , 0.        , 0.        , 0.        , 0.        ,\n",
              "        0.        , 0.        , 0.        , 0.        , 0.97254902,\n",
              "        0.84705882, 0.84313725, 0.85490196, 0.87058824, 0.84705882,\n",
              "        0.83921569, 0.81176471, 0.85490196, 0.70196078, 0.        ,\n",
              "        0.        , 0.        , 0.        , 0.        , 0.        ,\n",
              "        0.        , 0.        , 0.        ],\n",
              "       [0.        , 0.        , 0.        , 0.        , 0.        ,\n",
              "        0.        , 0.        , 0.        , 0.        , 0.97647059,\n",
              "        0.84705882, 0.85098039, 0.85882353, 0.87058824, 0.85098039,\n",
              "        0.83921569, 0.82352941, 0.84313725, 0.82745098, 0.        ,\n",
              "        0.        , 0.        , 0.        , 0.        , 0.        ,\n",
              "        0.        , 0.        , 0.        ],\n",
              "       [0.        , 0.        , 0.        , 0.        , 0.        ,\n",
              "        0.        , 0.        , 0.        , 0.14901961, 1.        ,\n",
              "        0.83921569, 0.85490196, 0.85882353, 0.87843137, 0.85490196,\n",
              "        0.84313725, 0.82745098, 0.82745098, 0.90588235, 0.        ,\n",
              "        0.        , 0.        , 0.        , 0.        , 0.        ,\n",
              "        0.        , 0.        , 0.        ],\n",
              "       [0.        , 0.        , 0.        , 0.        , 0.        ,\n",
              "        0.        , 0.        , 0.        , 0.30980392, 0.89019608,\n",
              "        0.81960784, 0.85882353, 0.85882353, 0.89019608, 0.85882353,\n",
              "        0.84313725, 0.83529412, 0.80784314, 0.99607843, 0.22745098,\n",
              "        0.        , 0.        , 0.        , 0.        , 0.        ,\n",
              "        0.        , 0.        , 0.        ],\n",
              "       [0.        , 0.        , 0.        , 0.        , 0.        ,\n",
              "        0.        , 0.        , 0.        , 0.57254902, 0.88627451,\n",
              "        0.82745098, 0.8627451 , 0.85882353, 0.89411765, 0.85490196,\n",
              "        0.84313725, 0.84705882, 0.80392157, 0.85882353, 0.63921569,\n",
              "        0.        , 0.        , 0.        , 0.        , 0.        ,\n",
              "        0.        , 0.        , 0.        ],\n",
              "       [0.        , 0.        , 0.        , 0.        , 0.        ,\n",
              "        0.        , 0.        , 0.        , 0.79215686, 0.86666667,\n",
              "        0.83921569, 0.86666667, 0.85882353, 0.90588235, 0.85490196,\n",
              "        0.84313725, 0.85490196, 0.83529412, 0.83137255, 0.8627451 ,\n",
              "        0.        , 0.        , 0.        , 0.        , 0.        ,\n",
              "        0.        , 0.        , 0.        ],\n",
              "       [0.        , 0.        , 0.        , 0.        , 0.        ,\n",
              "        0.        , 0.        , 0.        , 0.91764706, 0.85098039,\n",
              "        0.84705882, 0.8627451 , 0.85882353, 0.91764706, 0.85098039,\n",
              "        0.84313725, 0.85490196, 0.84705882, 0.8745098 , 0.96862745,\n",
              "        0.02745098, 0.        , 0.        , 0.        , 0.        ,\n",
              "        0.        , 0.        , 0.        ],\n",
              "       [0.        , 0.        , 0.        , 0.        , 0.        ,\n",
              "        0.        , 0.        , 0.06666667, 0.99607843, 0.83137255,\n",
              "        0.85882353, 0.85882353, 0.8627451 , 0.91372549, 0.83921569,\n",
              "        0.84705882, 0.85882353, 0.87058824, 0.6       , 0.93333333,\n",
              "        0.22745098, 0.        , 0.        , 0.        , 0.        ,\n",
              "        0.        , 0.        , 0.        ],\n",
              "       [0.        , 0.        , 0.        , 0.        , 0.        ,\n",
              "        0.        , 0.        , 0.25882353, 1.        , 0.81568627,\n",
              "        0.8627451 , 0.85882353, 0.87058824, 0.94509804, 0.8627451 ,\n",
              "        0.85490196, 0.85490196, 0.85490196, 0.75294118, 0.94901961,\n",
              "        0.38823529, 0.        , 0.        , 0.        , 0.        ,\n",
              "        0.        , 0.        , 0.        ],\n",
              "       [0.        , 0.        , 0.        , 0.        , 0.        ,\n",
              "        0.        , 0.        , 0.55686275, 0.92156863, 0.79607843,\n",
              "        0.85490196, 0.84705882, 0.90588235, 0.94901961, 0.88235294,\n",
              "        0.91372549, 0.85882353, 0.83921569, 0.84705882, 0.93333333,\n",
              "        0.56470588, 0.        , 0.        , 0.        , 0.        ,\n",
              "        0.        , 0.        , 0.        ],\n",
              "       [0.        , 0.        , 0.        , 0.        , 0.        ,\n",
              "        0.        , 0.        , 0.69411765, 0.97254902, 0.89019608,\n",
              "        0.89803922, 0.82745098, 1.        , 0.29803922, 0.        ,\n",
              "        0.96862745, 0.95294118, 0.90196078, 0.90196078, 0.97647059,\n",
              "        0.73333333, 0.        , 0.        , 0.        , 0.        ,\n",
              "        0.        , 0.        , 0.        ],\n",
              "       [0.        , 0.        , 0.        , 0.        , 0.        ,\n",
              "        0.        , 0.        , 0.39607843, 0.94509804, 0.89411765,\n",
              "        0.89411765, 0.8627451 , 1.        , 0.25098039, 0.        ,\n",
              "        0.95294118, 0.92941176, 0.90196078, 0.89019608, 0.94509804,\n",
              "        0.55686275, 0.        , 0.        , 0.        , 0.        ,\n",
              "        0.        , 0.        , 0.        ],\n",
              "       [0.        , 0.        , 0.        , 0.        , 0.        ,\n",
              "        0.        , 0.        , 0.        , 1.        , 0.94901961,\n",
              "        0.87058824, 0.85490196, 1.        , 0.24313725, 0.        ,\n",
              "        0.8745098 , 0.93333333, 0.88235294, 0.93333333, 1.        ,\n",
              "        0.12156863, 0.        , 0.        , 0.        , 0.        ,\n",
              "        0.        , 0.        , 0.        ],\n",
              "       [0.        , 0.        , 0.        , 0.        , 0.        ,\n",
              "        0.        , 0.        , 0.        , 0.17647059, 1.        ,\n",
              "        0.94901961, 0.92156863, 1.        , 0.32941176, 0.        ,\n",
              "        0.96470588, 1.        , 0.94901961, 1.        , 0.2745098 ,\n",
              "        0.        , 0.        , 0.        , 0.        , 0.        ,\n",
              "        0.        , 0.        , 0.        ],\n",
              "       [0.        , 0.        , 0.        , 0.        , 0.        ,\n",
              "        0.        , 0.        , 0.        , 0.        , 0.        ,\n",
              "        0.23921569, 0.4       , 0.65882353, 0.09803922, 0.        ,\n",
              "        0.54509804, 0.63137255, 0.29019608, 0.        , 0.        ,\n",
              "        0.        , 0.        , 0.        , 0.        , 0.        ,\n",
              "        0.        , 0.        , 0.        ]])"
            ]
          },
          "metadata": {},
          "execution_count": 6
        }
      ]
    },
    {
      "cell_type": "code",
      "metadata": {
        "colab": {
          "base_uri": "https://localhost:8080/"
        },
        "id": "DPnQSCaSqLWD",
        "outputId": "60cffacc-c42c-4542-827a-df6e78a2720d"
      },
      "source": [
        "test_loss , test_acc =model.evaluate(test_images,test_labels)\n",
        "print('test_acc:',test_acc)"
      ],
      "execution_count": 9,
      "outputs": [
        {
          "output_type": "stream",
          "name": "stdout",
          "text": [
            "313/313 [==============================] - 1s 3ms/step - loss: 0.3524 - accuracy: 0.8756\n",
            "test_acc: 0.8755999803543091\n"
          ]
        }
      ]
    },
    {
      "cell_type": "code",
      "metadata": {
        "id": "gbwZCd16v8rg"
      },
      "source": [
        ""
      ],
      "execution_count": null,
      "outputs": []
    }
  ]
}